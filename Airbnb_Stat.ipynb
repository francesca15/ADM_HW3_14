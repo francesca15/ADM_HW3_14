{
 "cells": [
  {
   "cell_type": "markdown",
   "metadata": {},
   "source": [
    "# Homework 3 - Find the perfect place to stay in Texas!\n",
    "### Group 14 - PavanKumar Alikana, Matteo Cavalletti, Francesca Porcu"
   ]
  },
  {
   "cell_type": "markdown",
   "metadata": {},
   "source": [
    "The homework consists in analyzing the text of Airbnb property listings and building a search engine."
   ]
  },
  {
   "cell_type": "code",
   "execution_count": 6,
   "metadata": {},
   "outputs": [
    {
     "name": "stdout",
     "output_type": "stream",
     "text": [
      "[nltk_data] Downloading package stopwords to\n",
      "[nltk_data]     /Users/vamsigunturi/nltk_data...\n",
      "[nltk_data]   Package stopwords is already up-to-date!\n"
     ]
    }
   ],
   "source": [
    "#Import required libraries\n",
    "import pandas as pd\n",
    "# For displaying search results in a table\n",
    "from IPython.display import HTML, display\n",
    "from os.path import join as pjoin\n",
    "import csv\n",
    "\n",
    "# For persisting indexes in an external file\n",
    "import pickle\n",
    "import math\n",
    "import heapq\n",
    "from pathlib import Path\n",
    "\n",
    "# For word tokenization\n",
    "import nltk\n",
    "import re\n",
    "import os\n",
    "from nltk.tokenize import RegexpTokenizer\n",
    "# For stop words list\n",
    "from nltk.corpus import stopwords\n",
    "# For word stemming\n",
    "from nltk.stem.snowball import SnowballStemmer\n",
    "\n",
    "#First we import stopwords from nltk\n",
    "nltk.download('stopwords')\n",
    "stop_words = set(stopwords.words('english'))\n",
    "#To remove punctuation we use regexptokenizer, but we leave dollar symbol $ because maybe is used in some queries\n",
    "tokenizer = RegexpTokenizer(r'\\w+|\\$')\n",
    "#we create the stemmer\n",
    "ps = SnowballStemmer('english')\n",
    "\n",
    "# Path to the current working directory to refer to all the files relatively\n",
    "my_path = os.path.dirname(os.path.realpath('__file__'))"
   ]
  },
  {
   "cell_type": "markdown",
   "metadata": {},
   "source": [
    "# Step 1: Data"
   ]
  },
  {
   "cell_type": "code",
   "execution_count": 16,
   "metadata": {},
   "outputs": [],
   "source": [
    "#Reading the main CSV file\n",
    "m = pd.read_csv(\"Airbnb_Texas_Rentals.csv\")\n",
    "doc_len = len(m)\n",
    "\n",
    "#We found '\\\\t','\\\\n' and '\\\\r' in the dataset so we cleaned it, replacing them with spaces. This is necessary because\n",
    "#they corrupt some words creating problems during stemming procedure.\n",
    "m = m.replace({r'\\s+$': '', r'^\\s+': ''}, regex=True).replace(r'\\\\n',  ' ', regex=True)\n",
    "m = m.replace({r'\\s+$': '', r'^\\s+': ''}, regex=True).replace(r'\\\\t',  ' ', regex=True)\n",
    "m = m.replace({r'\\s+$': '', r'^\\s+': ''}, regex=True).replace(r'\\\\r',  ' ', regex=True)\n",
    "\n",
    "#To create tsv files we droped the first column because it's not useful\n",
    "m = m.drop(['Unnamed: 0'], axis=1)"
   ]
  },
  {
   "cell_type": "markdown",
   "metadata": {},
   "source": [
    "# Step 2: Create documents"
   ]
  },
  {
   "cell_type": "code",
   "execution_count": null,
   "metadata": {
    "collapsed": true
   },
   "outputs": [],
   "source": [
    "#Here we create a separate csv file for every row in the reviews csv file\n",
    "for i in range(len(m)):\n",
    "    with open(os.path.join(my_path, 'docu_hw3/doc_' + str(i) + '.tsv', 'w', newline='',encoding='utf-8') as output:\n",
    "        tsv_output = csv.writer(output, delimiter='\\t')\n",
    "        tsv_output.writerow(m.iloc[i])"
   ]
  },
  {
   "cell_type": "markdown",
   "metadata": {},
   "source": [
    "# Step 3: Search Engine"
   ]
  },
  {
   "cell_type": "markdown",
   "metadata": {},
   "source": [
    "At this point we create the ***vocabulary***. We don't modify directly tsv files because we need them for the output of the search engines, but we create a dictionary that assigns to each file words that would have contained if we had preprocessed them. In particular, we apply to the words contained in each file these procedures:\n",
    "- *Removing stopwords*\n",
    "- *Removing punctuation*\n",
    "- *Stemming*\n",
    "- *Lower-case letters*"
   ]
  },
  {
   "cell_type": "markdown",
   "metadata": {},
   "source": [
    "## 3.1) Conjunctive query"
   ]
  },
  {
   "cell_type": "markdown",
   "metadata": {},
   "source": [
    "### 3.1.1) Create your index!"
   ]
  },
  {
   "cell_type": "code",
   "execution_count": 7,
   "metadata": {
    "collapsed": true
   },
   "outputs": [],
   "source": [
    "review_content_persist = {}\n",
    "vocabulary_persist = {}\n",
    "words_persist = {}\n",
    "\n",
    "# Retrieving persisted information for review content and word map\n",
    "# Please create a directory(in your current working directory) with name 'indexes'  \n",
    "content_file = Path(os.path.join(my_path, \"indexes/review_content.pkl\"))\n",
    "vocabulary_file = Path(os.path.join(my_path, \"indexes/vocabulary.pkl\"))\n",
    "words_file = Path(os.path.join(my_path, \"indexes/words.pkl\"))\n",
    "\n",
    "\n",
    "# Retrieving already persisted information\n",
    "\n",
    "# Check if the index file exists, \n",
    "#if yes load the previously persisted indexes and content\n",
    "if content_file.is_file():\n",
    "    with open(content_file, \"rb\") as review_content:\n",
    "        review_content_persist = pickle.load(review_content)\n",
    "        review_content.close()\n",
    "        \n",
    "# Check if the vocabulary file exists, \n",
    "#if yes load the previously persisted vocabulary\n",
    "if vocabulary_file.is_file():\n",
    "    with open(vocabulary_file, \"rb\") as vocabulary:\n",
    "        vocabulary_persist = pickle.load(vocabulary)\n",
    "        vocabulary.close()\n",
    "        \n",
    "# Check if the words file exists, \n",
    "#if yes load the previously persisted words\n",
    "if words_file.is_file():\n",
    "    with open(words_file, \"rb\") as words:\n",
    "        words_persist = pickle.load(words)\n",
    "        words.close()\n",
    "\n",
    "if(len(review_content_persist.keys()) == 0):\n",
    "    \n",
    "    review_word_map = {}\n",
    "    \n",
    "    # We reach here if we don't have indexes already present\n",
    "    print(\"Indexes are being created\")\n",
    "    \n",
    "    #we create the vocabulary of preprocessed documents,but we don't modify the documents because \n",
    "    #we'll use them in search engine\n",
    "    \n",
    "    for i in range(doc_len):\n",
    "        with open(os.path.join(my_path, 'docu_hw3/doc_' + str(i) + '.tsv'),encoding='utf8') as tsvfile:\n",
    "             tsvreader = list(csv.reader(tsvfile, delimiter=\"\\t\"))\n",
    "        \n",
    "        # For review title\n",
    "        l1 = tsvreader[0][4]\n",
    "        \n",
    "        # For review content\n",
    "        l2 = tsvreader[0][7]\n",
    "        \n",
    "        l = l1+ ' ' +l2\n",
    "        l = l.lower()\n",
    "        l = tokenizer.tokenize(l)\n",
    "        \n",
    "        # This array will contain all the valid words in a given review after removing \n",
    "        # all the stop words, punctuations, stemming etc..,, we will use this information\n",
    "        # to find out the term frequency there by tf-idf values\n",
    "        file_words = []\n",
    "        \n",
    "        for r in l :\n",
    "            if not r in stop_words:\n",
    "                sr = ps.stem(r)\n",
    "                \n",
    "                file_words.append(sr)\n",
    "                \n",
    "                if not  sr in review_word_map:\n",
    "                    review_word_map[sr] = [i]\n",
    "                else:\n",
    "                    review_word_map[sr]+=[i]\n",
    "                    \n",
    "                    \n",
    "        review_content_persist[i] = ' '.join(file_words)\n",
    "    \n",
    "    # Saving the content and indexes for the first time\n",
    "    # We made use of pickle python module\n",
    "    #Saving content dictionary\n",
    "    with open(content_file, \"wb\") as review_content:\n",
    "        pickle.dump(review_content_persist, review_content)\n",
    "        review_content.close()\n",
    "    \n",
    "    # Word and Vocabulary indexes based on word map\n",
    "    c = 0\n",
    "    for key in review_word_map:\n",
    "        words_persist[key] = c\n",
    "        vocabulary_persist[c] = review_word_map[key]\n",
    "        c += 1\n",
    "    \n",
    "    #Save vocabulary and words\n",
    "    with open(vocabulary_file, \"wb\") as vocabulary:\n",
    "        pickle.dump(vocabulary_persist, vocabulary)\n",
    "        vocabulary.close()\n",
    "        \n",
    "   \n",
    "    with open(words_file, \"wb\") as words:\n",
    "        pickle.dump(words_persist, words)\n",
    "        words.close()\n",
    "    \n",
    "    \n",
    "                \n",
    "\n",
    "            "
   ]
  },
  {
   "cell_type": "markdown",
   "metadata": {},
   "source": [
    "### 3.1.2) Execute the query"
   ]
  },
  {
   "cell_type": "code",
   "execution_count": 8,
   "metadata": {},
   "outputs": [
    {
     "name": "stdout",
     "output_type": "stream",
     "text": [
      "Enter a search query: beautiful house\n",
      "Found 797 matching reviews to your query\n"
     ]
    },
    {
     "data": {
      "text/html": [
       "<table border=\"1\"><tr><th>Title</th><th>Description</th><th>City</th><th>URL</th></tr><tr><td>Unique Location! Alamo Heights - Designer Inspired</td><td>Stylish, fully remodeled home in upscale NW – Alamo Heights Area.   Amazing location - House conveniently located in quiet street, with beautiful seasoned trees, prestigious neighborhood and very close to the airport, 281, 410 loop and down-town area.   Featuring an open floor plan, original hardwood floors, 3 bedrooms, 3 FULL bathrooms + an independent garden-TV room which can sleep 2 more  European inspired kitchen and “top of the line” decor. Driveway can park 4 cars.</td><td>San Antonio</td><td>https://www.airbnb.com/rooms/17481455?location=Cibolo%2C%20TX</td></tr><tr><td>Friendly Private Room in َQuiet Neighborhood</td><td>This is a beautiful bedroom with a queen size bed and closet. We do not have pets and the house is always clean. The bathroom is shared and supplies such as towels and shampoo are available. We are only some miles from Downtown, TCU, TCC, and Stockyards.</td><td>Fort Worth</td><td>https://www.airbnb.com/rooms/18977363?location=Cleburne%2C%20TX</td></tr><tr><td>East Austin Hillside Gem</td><td>Beautiful and modern 3Br, 2.5Ba located minutes from downtown. Amenities include front deck, back patio, peaceful backyard with tiered gardens and fire pits. There is also gym equipment, wifi, Xbox, and cable with HBO, Showtime, Starz, etc. There is free offstreet parking for two cars.   Perfect location for families(with kids or furry friends,) couples, business travelers or friends looking for a spacious and comfortable location with plenty of amenities. This house has beautiful sunset views of downtown Austin just 6 miles from Darrell K Royal Stadium, 8 miles from Zilker Park and 14 miles from Circuit of the</td><td>Austin</td><td>https://www.airbnb.com/rooms/17555039?location=Bastrop%20County%2C%20TX</td></tr><tr><td>A Cozy Home with a Beautiful Nature Views</td><td>This home is on the North Side of San Antonio, 3 minutes away from a great golfing course and a JW Marriott Resort and Spa. This is a great stopping place for a family and comes with all amenities from cable, internet to a laundry room and 2 bathrooms. This house is against a green belt so you can enjoy the back yard and nature.This area is safe and my neighbors are also great! Hope you enjoy your stay and more so enjoy San Antonio!</td><td>San Antonio</td><td>https://www.airbnb.com/rooms/19190311?location=Cibolo%2C%20TX</td></tr><tr><td>Cottage in the Oaks</td><td>This cottage sits on a 2 acre lot with beautiful swayed oaks. Large front patio which is GREAT for entertaining or just relaxing and watching the sun set. This house has a backyard with a small deck and ivy covered oaks. Inside, there are two bedrooms and two bathrooms. Smart TV in living room with ROKU technology. Additional smart TV in master bedroom. Fully stocked kitchen (just bring your own groceries!) Washer and dryer available. Only 200 yards from the bay! Great for families.</td><td>Rockport</td><td>https://www.airbnb.com/rooms/16585732?location=Bayside%2C%20TX</td></tr><tr><td>The Woodlands, BEAUTIFUL HOME, 1 Floor, 2 BT, 3 BD</td><td>Attractions: The Woodlands, incredible views, golf courses, theme parks with tennis courts and lakes, pools, cycle paths, tranquility and quality of life for the family. You will love my house because of its cozy spaces with high ceilings in an excellent location, beautiful views, and proximity to the great shopping areas. It is a single story house with a large garden; ideal for couples, business travelers, and families with children.</td><td>Spring</td><td>https://www.airbnb.com/rooms/13065223?location=Conroe%2C%20TX</td></tr><tr><td>Super Bowl Bungalow Near Downtown & Stadium!!!</td><td>Super Bowl Ready!!! Close to Downtown, Midtown, Montrose and the Stadium! Charming corner lot bungalow in quiet historic neighborhood. Jogging trail along bayou. Across from beautiful cemetery.  One private bedroom with a queen and lock on door. Back bedroom with pull out queen and back door entrance. Middle bedroom with queen (must pass through middle bedroom to access back bedroom). Two large couches in living. Small house with only one bathroom that can sleep 8 adults.</td><td>Houston</td><td>https://www.airbnb.com/rooms/17006488?location=Channelview%2C%20TX</td></tr><tr><td>Beautiful Home with tons of Amenities</td><td>Hey traveler! This listing is for a spacious 5 bedroom home. Four rooms are equipped with queen sized mattress, plenty of closet space, an wall to wall carpet. There's also a theater room, large backyard with a pool, hot tub, and space to hangout! The house is in a quiet neighborhood and just minutes away from shops, and 15 minutes from Downtown Dallas.</td><td>Dallas</td><td>https://www.airbnb.com/rooms/17920483?location=Addison%2C%20TX</td></tr><tr><td>Fortunata Casa Felicita</td><td>3 bedroom 2 bath private home with sleeping accommodations for 10. Bedroom 1 consists of 1 King Bed, Bedroom 2 1 Queen Bed, Bedroom 3 2 Sets of Bunk Beds, Living Room has sleeper sofa. 2 Bathrooms, all rooms share full kitchen and beautiful outdoor patio! Booking is for whole house. All Villas provide free Wifi, Cable TV, private coffee bar, toiletries, plush robes, private entrance, parking, and access to the tasting room within walking distance.</td><td>Aubrey</td><td>https://www.airbnb.com/rooms/18462311?location=Corinth%2C%20TX</td></tr><tr><td>2 bedrooms with exotic pool, home away from home</td><td>Beautiful home with 2 bedrooms available, a brand-new deluxe pool, parking space, and located in a very quiet and safe neighborhood. Moreover, if you would like to go grocery shopping, to the pharmacy, get some gas, to the bank, to get a quick bite, to have fun in a nightlife setting, or if in case of an accident you need to get a car part you will be able to find all of these locations only 3-5 minutes away from the house. The house and rooms are a perfect fit for a stay and rest getaway.</td><td>San Antonio</td><td>https://www.airbnb.com/rooms/19131969?location=Converse%2C%20TX</td></tr></table>"
      ],
      "text/plain": [
       "<IPython.core.display.HTML object>"
      ]
     },
     "metadata": {},
     "output_type": "display_data"
    }
   ],
   "source": [
    "word = input('Enter a search query: ')\n",
    "\n",
    "# Cleaning user input similar to what we did for creating indexes for words\n",
    "def clean_input(w):\n",
    "    w_list = []\n",
    "    w = w.lower()\n",
    "    w = tokenizer.tokenize(w)\n",
    "    \n",
    "    for r in w :\n",
    "        if not r in stop_words:\n",
    "            sr = ps.stem(r)\n",
    "            if not  sr in w_list:\n",
    "                w_list.append(sr)\n",
    "    return w_list\n",
    "\n",
    "# Show search results in tabular format\n",
    "def show_results(results, doc_list, isScore):\n",
    "    \n",
    "    if(len(doc_list)):\n",
    "        print('Found ' + str(len(doc_list))  + ' matching reviews to your query')\n",
    "    \n",
    "    if(len(results)):\n",
    "        if(isScore):\n",
    "            tableFormat = '<table border=\"1\"><tr><th>Title</th><th>Description</th><th>City</th><th>URL</th><th>Score</th></tr><tr>{}</tr></table>'\n",
    "        else:\n",
    "            tableFormat = '<table border=\"1\"><tr><th>Title</th><th>Description</th><th>City</th><th>URL</th></tr><tr>{}</tr></table>'\n",
    "        \n",
    "        \n",
    "        display(HTML(tableFormat.format('</tr><tr>'.join('<td>{}</td>'.format('</td><td>'.join(str(_) for _ in row)) for row in results)\n",
    ")))\n",
    "    else:\n",
    "        display(HTML('<h1>No results found. Please try a different query</h1>'))\n",
    "    \n",
    "\n",
    "\n",
    "word_list = clean_input(word)\n",
    "\n",
    "# print(\"Cleaned word: \", word_list)\n",
    "\n",
    "list_doc_list = []\n",
    "\n",
    "for w in word_list:\n",
    "        doc_list = []\n",
    "        \n",
    "        if w in words_persist: \n",
    "            doc_list = vocabulary_persist[words_persist[w]]\n",
    "            \n",
    "        list_doc_list.append(doc_list)  \n",
    "\n",
    "# Initially assinging the list intersection to the matching documents of first word\n",
    "list_intersect = list_doc_list[0]\n",
    "\n",
    "def intersection(lst1, lst2): \n",
    "    lst3 = [value for value in lst1 if value in lst2] \n",
    "    return lst3 \n",
    "        \n",
    "for docList in list_doc_list:\n",
    "    list_intersect = intersection(list_intersect, docList)\n",
    "    \n",
    "\n",
    "def process_text_common(text):\n",
    "    textList = text.split(' ')\n",
    "        \n",
    "    if(len(textList) > 100):\n",
    "        textList = textList[:100]\n",
    "        \n",
    "    return ' '.join(textList)    \n",
    "        \n",
    "results = []\n",
    "\n",
    "# Removing the duplicates in the document intersection\n",
    "list_intersect = list(set(list_intersect))\n",
    "\n",
    "i_len = len(list_intersect)\n",
    "\n",
    "if(i_len):\n",
    "    \n",
    "    r_limit = 10\n",
    "    \n",
    "    if(i_len < 10):\n",
    "        r_limit = i_len\n",
    "    \n",
    "    # Showing at most ten results\n",
    "    for doc in list_intersect[:r_limit]:\n",
    "        \n",
    "        # Reading each document based on document id in list intersect \n",
    "        with open(os.path.join(my_path, 'docu_hw3/doc_' + str(doc) + '.tsv'),encoding='utf8') as tsvfile:\n",
    "             tsvreader = list(csv.reader(tsvfile, delimiter=\"\\t\"))\n",
    "\n",
    "        title = tsvreader[0][7]        \n",
    "        description = tsvreader[0][4]\n",
    "        \n",
    "        description = process_text_common(description)\n",
    "        \n",
    "        city = tsvreader[0][2]\n",
    "        url = tsvreader[0][8]\n",
    "\n",
    "        results.append([title, description, city, url])\n",
    "\n",
    "# Displaying the results\n",
    "show_results(results, list_intersect, False)"
   ]
  },
  {
   "cell_type": "markdown",
   "metadata": {},
   "source": [
    "## 3.2) Conjunctive query & Ranking score"
   ]
  },
  {
   "cell_type": "markdown",
   "metadata": {},
   "source": [
    "### 3.2.1) Inverted index"
   ]
  },
  {
   "cell_type": "code",
   "execution_count": 9,
   "metadata": {
    "collapsed": true
   },
   "outputs": [],
   "source": [
    "iindex_tf_idf_persist = {}\n",
    "\n",
    "\n",
    "# Check if the index file exists, if yes load the previously persisted indexes and content\n",
    "# Please create a directory(in your current working directory) with name indexes  \n",
    "index_file = Path(os.path.join(my_path, \"indexes/iindex_tf_idf.pkl\"))\n",
    "\n",
    "# Check if the index file exists, if yes load the previously persisted indexes\n",
    "if index_file.is_file():\n",
    "    # Retriving precreated inverted indexes\n",
    "    with open(index_file, \"rb\") as iindex_tf_idf:\n",
    "        iindex_tf_idf_persist = pickle.load(iindex_tf_idf)\n",
    "        iindex_tf_idf.close()\n",
    "        \n",
    "    \n",
    "if(len(iindex_tf_idf_persist.keys()) == 0):\n",
    "    \n",
    "    print(\"Inverted Indexes are being calculated\")\n",
    "\n",
    "    word_iindex = {}\n",
    "\n",
    "    #Creating inverted index using tf-idf and consine similarity\n",
    "    for word in words_persist:\n",
    "        word_doc_list = vocabulary_persist[words_persist[word]]\n",
    "        word_iindex[word] = []\n",
    "\n",
    "        # Store indexes based on number of times a particular word is present in a given document\n",
    "        for doc in word_doc_list:\n",
    "            doc_content = review_content_persist[doc]\n",
    "            # Pushing the term frequency with document id\n",
    "            word_iindex[word].append([doc, doc_content.split().count(word)])\n",
    "\n",
    "    # Store indexes based on tf-idf\n",
    "    docs_length = len(review_content_persist.keys())\n",
    "    iindex_tf_idf_persist = word_iindex\n",
    "\n",
    "    for key, word in iindex_tf_idf_persist.items():\n",
    "        # find out the relative importance of a particular terms relating it to document count\n",
    "        idf= math.log10( docs_length / len(word) )\n",
    "\n",
    "        for elem in word:\n",
    "            # Add the document score corresponding to a particular term which we then use in the \n",
    "            # search results ranking of documents\n",
    "            elem[1] = idf * elem[1]\n",
    "    \n",
    "    # Persisting the indexes calculated \n",
    "    with open(index_file, \"wb\") as iindex_tf_idf:\n",
    "        pickle.dump(iindex_tf_idf_persist, iindex_tf_idf)\n",
    "        iindex_tf_idf.close()\n",
    "        \n"
   ]
  },
  {
   "cell_type": "markdown",
   "metadata": {},
   "source": [
    "### 3.2.2) Execute the query"
   ]
  },
  {
   "cell_type": "code",
   "execution_count": 10,
   "metadata": {
    "collapsed": true
   },
   "outputs": [],
   "source": [
    "dict_qcos = {}\n",
    "dict_norm = {}\n",
    "\n",
    "#print(\"Search started\")\n",
    "\n",
    "# Need to remove this 100 hardcoding\n",
    "for doc in list_intersect:\n",
    "    \n",
    "    num = 0\n",
    "    \n",
    "    #print(\"Current document ID: \" + str(doc))\n",
    "    \n",
    "    # Calculating numerator of the cosine similarity equation\n",
    "    \n",
    "    for word in word_list:\n",
    "        w_index = iindex_tf_idf_persist[word]\n",
    "        w_i_len = len(w_index)\n",
    "        for i in range(w_i_len):\n",
    "            if w_index[i][0] == doc: \n",
    "                num +=  w_index[i][1]\n",
    "                \n",
    "    dict_qcos[doc]=num\n",
    "\n",
    "    \n",
    "    # Calculating denominator of the cosine similarity equation\n",
    "    norm = 0\n",
    "    for word in iindex_tf_idf_persist.values():\n",
    "        for i in range(len(word)):\n",
    "            if word[i][0] == doc:\n",
    "                norm +=  word[i][1]**2\n",
    "    \n",
    "    dict_norm[doc]=math.sqrt(norm)\n",
    "\n",
    "#print(\"Numerator and Denominator calculated\")\n",
    "\n",
    "# Once numerator and denominator is calculated find the score of each document in the intersection list \n",
    "# By applying the consine similarity formala\n",
    "for doc,num in dict_qcos.items():\n",
    "    # Eleminating divided by zero problem to check if the normalization value for a document is non-zero\n",
    "    if dict_norm[doc] != 0:\n",
    "        dict_qcos[doc] = num/(math.sqrt(len(word_list))*dict_norm[doc])\n",
    "\n",
    "#print(\"Cosine similarity done\")"
   ]
  },
  {
   "cell_type": "code",
   "execution_count": 11,
   "metadata": {},
   "outputs": [
    {
     "data": {
      "text/html": [
       "<table border=\"1\"><tr><th>Title</th><th>Description</th><th>City</th><th>URL</th><th>Score</th></tr><tr><td>Beautiful, New Beach House</td><td>Our house is close to restaurants and dining, the beach, and family-friendly activities. You’ll love our house because of the coziness, the high ceilings, the views, the location, and the people. Our house is good for couples, solo adventurers, and families (with kids).</td><td>Crystal Beach</td><td>https://www.airbnb.com/rooms/15068378?location=Anahuac%2C%20TX</td><td>0.9222</td></tr><tr><td>Private room in spacious 3 bedroom house</td><td>Me and a roommate live in this spacious 2,500 square feet single story house. The house is walking distance to Warren Sports Complex (sports park with multiple fields and a beautiful lake.) The house is also close to restaurants and dinning, and all of Frisco's new development. You will not be disappointed, the house has a private pool, an office space, and comfortable living areas. This place is great for business travelers, or any solo adventurers.</td><td>Frisco</td><td>https://www.airbnb.com/rooms/11591124?location=Celina%2C%20TX</td><td>0.7225</td></tr><tr><td>Quiet place</td><td>Beautiful house</td><td>New Caney</td><td>https://www.airbnb.com/rooms/16743790?location=Cleveland%2C%20TX</td><td>0.7002</td></tr><tr><td>Quite Spacious Private Room in Beautiful House</td><td>Our house is in a small and quite family neighborhood. We have a very spacious family home. My wife and I work a lot and are rarely here but keep the house very clean.  The house is located right off I-10 while quite a bit of restaurants, shopping centers, and enertainment close to our house.</td><td>Houston</td><td>https://www.airbnb.com/rooms/18784719?location=Cinco%20Ranch%2C%20TX</td><td>0.6543</td></tr><tr><td>Zilker House - Beautiful and Modern</td><td>Wonderful house with 2 queen bedrooms and a bathroom. Completely updated. House is stocked with linens, kitchen and bath essentials. Quite and safe, but close to the action. House has wifi. Max 4 adults / 2 kids. Easy walking distance to lots of places to eat / drink and shop.</td><td>Austin</td><td>https://www.airbnb.com/rooms/911955?location=Colorado%20River%2C%20TX</td><td>0.6532</td></tr><tr><td>Zilker House - Beautiful and Modern</td><td>Wonderful house with 2 queen bedrooms and a bathroom. Completely updated. House is stocked with linens, kitchen and bath essentials. Quite and safe, but close to the action. House has wifi. Max 4 adults / 2 kids. Easy walking distance to lots of places to eat / drink and shop.</td><td>Austin</td><td>https://www.airbnb.com/rooms/911955?location=Brazos%20River%2C%20TX</td><td>0.6532</td></tr><tr><td>Private house/beautiful grounds on Lake Granbury!</td><td>The Pool House is a private 700 sq foot house with a bedroom/king bed, a galley kitchen with full size refrigerator, living room, and large bathroom with double vanities and a large glassed in shower. The Pool House is a short walk to downtown Granbury for shopping, dining and entertainment. You’ll love this house because of the lake views, the location (within walking distance to shopping and dining), the coziness, and the saltwater pool. My place is good for couples and business travelers.</td><td>Granbury</td><td>https://www.airbnb.com/rooms/13330174?location=Cleburne%2C%20TX</td><td>0.6238</td></tr><tr><td>Beautiful private room at the lake house</td><td>Beautiful room with a queen size in my gorgeous lake home. Access to the kitchen,living room and laundry. I have a beautiful deck that overlooks the water and a boathouse with hammocks to fish on and relax in. It's a fabulous place to come and just relax.</td><td>Bullard</td><td>https://www.airbnb.com/rooms/17249703?location=Athens%2C%20TX</td><td>0.6095</td></tr><tr><td>The Beach House Too</td><td>Beautiful new house with all the amenities of home! 3 bedrooms, 2 baths -- Stunning open floor plan , beautiful kitchen with bar area. Central Air/Heat, Microwave, Dishwasher, Washer/Dryer. No carpet , all tile floor . Features 4 flat screen tvs and a dvd player. Large covered decks front and back,downstairs outdoor shower , short walk to the beach, House is located in quiet area of beach that is wider and has less traffic. Great family house and area</td><td>Bolivar Peninsula</td><td>https://www.airbnb.com/rooms/18568358?location=Bolivar%20Peninsula%2C%20TX</td><td>0.5875</td></tr><tr><td>The Beach House Too</td><td>Beautiful new house with all the amenities of home! 3 bedrooms, 2 baths -- Stunning open floor plan , beautiful kitchen with bar area. Central Air/Heat, Microwave, Dishwasher, Washer/Dryer. No carpet , all tile floor . Features 4 flat screen tvs and a dvd player. Large covered decks front and back,downstairs outdoor shower , short walk to the beach, House is located in quiet area of beach that is wider and has less traffic. Great family house and area</td><td>Bolivar Peninsula</td><td>https://www.airbnb.com/rooms/18568358?location=Anahuac%2C%20TX</td><td>0.5875</td></tr></table>"
      ],
      "text/plain": [
       "<IPython.core.display.HTML object>"
      ]
     },
     "metadata": {},
     "output_type": "display_data"
    }
   ],
   "source": [
    "# Applying heap data structure to print to top-k documents\n",
    "\n",
    "h = []\n",
    "results = []\n",
    "\n",
    "for doc in dict_qcos.keys():\n",
    "    \n",
    "    # Reading the document meta data to print in the search results\n",
    "    \n",
    "    with open(os.path.join(my_path, 'docu_hw3/doc_' + str(doc) + '.tsv'),encoding='utf8') as tsvfile:\n",
    "         tsvreader = list(csv.reader(tsvfile, delimiter=\"\\t\"))\n",
    "    \n",
    "    title = tsvreader[0][7]        \n",
    "    description = tsvreader[0][4]\n",
    "    description = process_text_common(description)\n",
    "    city = tsvreader[0][2]\n",
    "    url = tsvreader[0][8]\n",
    "    \n",
    "    # Pushing the document information to heap data structure\n",
    "    \n",
    "    heapq.heappush(h,(dict_qcos[doc], title, description, city, url))\n",
    "\n",
    "#print(\"Applying Heap\")    \n",
    "# Applying max heap algorithm\n",
    "heapq._heapify_max(h)\n",
    "\n",
    "limit = 10\n",
    "doc_len = len(dict_qcos.keys())\n",
    "\n",
    "if(doc_len < 10):\n",
    "    limit = doc_len\n",
    "\n",
    "for i in range(limit):\n",
    "    # Popping the document with maximum score at every step and adding it to the result list\n",
    "    \n",
    "    # Since the data structure used in heap is a tuple, we convert it in to list for ease of manipulation\n",
    "    results.append(list(heapq.heappop(h)))\n",
    "    \n",
    "    # re-applying the max heap algorithm\n",
    "    heapq._heapify_max(h)\n",
    "\n",
    "#print(\"Applying Heap\")  \n",
    "\n",
    "#print(results)\n",
    "results_formatted = []\n",
    "\n",
    "for i in results:\n",
    "    \n",
    "    first = round(i.pop(0), 4)\n",
    "    i.append(first) \n",
    "    #first = round(float(results[i].pop(0)), 4)\n",
    "    #results[i] = results[i].append(first)\n",
    "    results_formatted.append(i)\n",
    "\n",
    "\n",
    "# Displaying the results\n",
    "show_results(results_formatted, [], True)"
   ]
  },
  {
   "cell_type": "markdown",
   "metadata": {},
   "source": [
    "# Step 4: Define a new score!"
   ]
  },
  {
   "cell_type": "markdown",
   "metadata": {},
   "source": [
    "New score is based on:\n",
    "- *average price per night (av_r_n_u)*\n",
    "- *n° of bedrooms (bedr_c_u)*\n",
    "- *zone (zone_u)*\n",
    "\n",
    "**Average price per night**: we simply use average price per night from the tsv files and from this variable any house can get at maximum 2 points and at least 0. Maximum number of points (2) is achieved if the price is lower than half of the price suggested by the user, instead if price is two times the requested price the house get 0. To get 1 point you need to have the same price or lower than 1.25 times the suggested price. Naturally, other intermediate marks can be achieved.\n",
    "\n",
    "**n° of bedrooms**: if the n° of bedrooms requested are more or the same, house gets 1 point; if there are less bedrooms, house gets a lower mark. If there are three bedrooms less than requested or worse, house gets 0 point. \n",
    "\n",
    "**zone**: We found a set of coordinates (31,169621, -99,683617) that can be considered the center of texas; that is near to the city of Brady (County of McCulloch), so we divided Texas in four zones according to this center (like a cartesian coordinate system). Zones are: North East (NE), North West (NW), South East (SE) and South West (SW). If the house is in the requested zone it gets 1 point else 0. Is important to clarify that we didn't use cities because, given the fact that there are cities with the same name in different counties (e.g. we have 3 Austin), we can't use them because they can be confused.\n",
    "\n",
    "Finally we can calculate the Score as sum/4 where sum is sum of the accomulated scores from individul fields based on user choices and 4 is maximum number points that can be accumulated."
   ]
  },
  {
   "cell_type": "code",
   "execution_count": 14,
   "metadata": {},
   "outputs": [
    {
     "name": "stdout",
     "output_type": "stream",
     "text": [
      "please, enter maximum price that you can pay(e.g. 10): 30\n",
      "please, enter the number of bedrooms that you need(e.g 5): 5\n",
      "please enter the zone you want to reside(e.g. NE): NE\n"
     ]
    },
    {
     "data": {
      "text/html": [
       "<table border=\"1\"><tr><th>Title</th><th>Description</th><th>City</th><th>URL</th><th>Score</th></tr><tr><td>The Center of Divine Light</td><td>renovated Mineral Bath House , Wonderful healing Waters for soaks , Labyrinth in Back yard for Walking meditations. Singing Chimes , FIre Pit , Grill for outdoor cooking, Beautiful clear night sky for star gazing. Hanging sky chairs for rest and relaxation. Massage Therapist on hand if you want to schedule some R and R time for yourself. Mysterious magical Orbs that have visit on occasion. Healing Vibro Accoustic Lounge ( sound vibrating table), quite and peaceful setting meditation areas.</td><td>Round Top</td><td>https://www.airbnb.com/rooms/15479650?location=Bridgeport%2C%20TX</td><td>0.62</td></tr><tr><td>House on the Creek</td><td>A beautiful house on the Creek, conveniently located in Plano, TX. Close to the shopping centers, and UT Dallas. There is a bus stop in a walking distance from the house that can take you to the Dart Station.</td><td>Round Top</td><td>https://www.airbnb.com/rooms/17992009?location=Allen%2C%20TX</td><td>0.62</td></tr><tr><td>Friendly Private Room in َQuiet Neighborhood</td><td>This is a beautiful bedroom with a queen size bed and closet. We do not have pets and the house is always clean. The bathroom is shared and supplies such as towels and shampoo are available. We are only some miles from Downtown, TCU, TCC, and Stockyards.</td><td>Round Top</td><td>https://www.airbnb.com/rooms/18977363?location=Burleson%2C%20TX</td><td>0.62</td></tr><tr><td>Friendly Private Room in َQuiet Neighborhood</td><td>This is a beautiful bedroom with a queen size bed and closet. We do not have pets and the house is always clean. The bathroom is shared and supplies such as towels and shampoo are available. We are only some miles from Downtown, TCU, TCC, and Stockyards.</td><td>Round Top</td><td>https://www.airbnb.com/rooms/18977363?location=Benbrook%2C%20TX</td><td>0.62</td></tr><tr><td>Not so \"in the city\"</td><td>The bedroom has plenty of space, a large closet, windows that let natural light in, a personal ac unit to keep comfortable, a queen bed, and a light, fresh color on the walls. There is a side door which is the quickest way to get to the room and you will have a key for it of course so you can come and go as you please without coming through the front door and all through the house. The neighborhood is quiet, and full of trees, it's quite a beautiful sight.  Any questions feel free to message</td><td>Round Top</td><td>https://www.airbnb.com/rooms/19208947?location=Balch%20Springs%2C%20TX</td><td>0.56</td></tr><tr><td>Friendly Private Room in َQuiet Neighborhood</td><td>This is a beautiful bedroom with a queen size bed and closet. We do not have pets and the house is always clean. The bathroom is shared and supplies such as towels and shampoo are available. We are only some miles from Downtown, TCU, TCC, and Stockyards.</td><td>Round Top</td><td>https://www.airbnb.com/rooms/18977363?location=Cleburne%2C%20TX</td><td>0.56</td></tr><tr><td>luxurious house minutes from Bob Eden Park</td><td>1 acre private cul-de-sac lot backing up to Bob Eden Park Georgian style home with walkout basement to pool spa decked living area main level features stunning hardwood floors in living ,kitchen,and dinning plus serene views from wall to wall windows. large deck overlooking bkyrd bdrm bath &amp;grand kitchen that is a chefs delight. owners retreat &amp;beautiful updated master bath up plus 2 more bdrms &amp;full bath with 2nd washer dryer for ease tons of storage space office,living area,craft room</td><td>Round Top</td><td>https://www.airbnb.com/rooms/18873698?location=Colleyville%2C%20TX</td><td>0.5</td></tr><tr><td>luxurious house minutes from Bob Eden Park</td><td>1 acre private cul-de-sac lot backing up to Bob Eden Park Georgian style home with walkout basement to pool spa decked living area main level features stunning hardwood floors in living ,kitchen,and dinning plus serene views from wall to wall windows. large deck overlooking bkyrd bdrm bath &amp;grand kitchen that is a chefs delight. owners retreat &amp;beautiful updated master bath up plus 2 more bdrms &amp;full bath with 2nd washer dryer for ease tons of storage space office,living area,craft room</td><td>Round Top</td><td>https://www.airbnb.com/rooms/18873698?location=Bedford%2C%20TX</td><td>0.5</td></tr><tr><td>The Vintage room in Fort Worth</td><td>Our place is a beautiful cozy open concept house in a quiet neighborhood surrounded by nature with easy access to many shops/restaurants and close enough to the city. We are centrally located about 24 minutes from DFW airport, about 21 minutes from Fort Worth Stockyards, Water Gardens( a must see in Texas) and about 26 minutes from Six Flags.</td><td>Round Top</td><td>https://www.airbnb.com/rooms/18959678?location=Colleyville%2C%20TX</td><td>0.5</td></tr><tr><td>The Vintage room in Fort Worth</td><td>Our place is a beautiful cozy open concept house in a quiet neighborhood surrounded by nature with easy access to many shops/restaurants and close enough to the city. We are centrally located about 24 minutes from DFW airport, about 21 minutes from Fort Worth Stockyards, Water Gardens( a must see in Texas) and about 26 minutes from Six Flags.</td><td>Round Top</td><td>https://www.airbnb.com/rooms/18959678?location=Burleson%2C%20TX</td><td>0.5</td></tr></table>"
      ],
      "text/plain": [
       "<IPython.core.display.HTML object>"
      ]
     },
     "metadata": {},
     "output_type": "display_data"
    }
   ],
   "source": [
    "#Here we define default values, necessary because the user could insert only a part of the need information (default \n",
    "#values give 0 points)\n",
    "av_r_n_u = 0\n",
    "bedr_c_u = 1000\n",
    "zone_u = 'NA'\n",
    "#User inserts, if he can, needed informations\n",
    "try:\n",
    "    av_r_n_u = int(input('please, enter maximum price that you can pay(e.g. 10): '))\n",
    "except:\n",
    "    print('No price suggested')\n",
    "    pass\n",
    "try:\n",
    "    bedr_c_u = int(input('please, enter the number of bedrooms that you need(e.g 5): '))\n",
    "except:\n",
    "    print('No indication about the needed number of bedrooms')\n",
    "    pass\n",
    "try:\n",
    "    zone_u = input('please enter the zone you want to reside(e.g. NE): ')\n",
    "except:\n",
    "    print('No zone was indicated')\n",
    "    pass\n",
    "list_ord =[]\n",
    "\n",
    "n_h = []\n",
    "#Computing score according to user information and characteristics of the houses\n",
    "for doc in list_intersect:\n",
    "    with open(os.path.join(my_path, 'docu_hw3/doc_' + str(doc) + '.tsv'),encoding='utf8') as tsvfile:\n",
    "         tsvreader = list(csv.reader(tsvfile, delimiter=\"\\t\"))\n",
    "    title = tsvreader[0][7]        \n",
    "    description = tsvreader[0][4]\n",
    "    description = process_text_common(description)\n",
    "    latitude = tsvreader[0][5]\n",
    "    longitude = tsvreader[0][6]\n",
    "    url = tsvreader[0][8]\n",
    "    price = list(tsvreader[0][0])\n",
    "    eff_price = ''\n",
    "    \n",
    "    for i in range(1,len(price)):\n",
    "        eff_price += price[i]\n",
    "    \n",
    "    \n",
    "    try:\n",
    "        av_r_n = int(eff_price)\n",
    "        bedr_c = int(tsvreader[0][1])\n",
    "    except ValueError:\n",
    "        av_r_n = 1000000\n",
    "        bedr_c = 1\n",
    "    \n",
    "    sum_values = 0\n",
    "    if av_r_n >= 2*av_r_n_u :\n",
    "               sum_values += 0          \n",
    "    elif av_r_n < 2*av_r_n_u and av_r_n >= 1.75*av_r_n_u:\n",
    "               sum_values += 0.25\n",
    "    elif  av_r_n < 1.75*av_r_n_u and av_r_n >= 1.5*av_r_n_u:\n",
    "               sum_values += 0.50  \n",
    "    elif av_r_n < 1.5*av_r_n_u and av_r_n >= 1.25*av_r_n_u:\n",
    "               sum_values += 0.75 \n",
    "    elif av_r_n < 1.25*av_r_n_u and av_r_n >= av_r_n_u:\n",
    "               sum_values += 1           \n",
    "    elif av_r_n < av_r_n_u and av_r_n >=0.75*av_r_n_u:\n",
    "               sum_values += 1.25\n",
    "    elif av_r_n < 0.75*av_r_n_u and av_r_n >=0.5*av_r_n_u :\n",
    "               sum_values += 1.5\n",
    "    elif av_r_n < 0.5*av_r_n_u :\n",
    "               sum_values += 2.\n",
    "    \n",
    "    \n",
    "    if bedr_c >= bedr_c_u:\n",
    "               sum_values += 1\n",
    "    elif bedr_c == bedr_c_u-1:\n",
    "               sum_values += 0.75\n",
    "    elif bedr_c == bedr_c_u-2:\n",
    "               sum_values += 0.5\n",
    "    elif bedr_c <= bedr_c_u-3:\n",
    "               sum_values += 0 \n",
    "            \n",
    "    try:\n",
    "        la = float(latitude)\n",
    "        lo = float(longitude)\n",
    "        if la <=31.169621 and lo <= -99.683617:\n",
    "             zone ='SW'\n",
    "        elif la <=31.169621 and lo > -99.683617:\n",
    "             zone ='SE'\n",
    "        elif la >31.169621 and lo > -99.683617:\n",
    "             zone ='NE'\n",
    "        elif la >31.169621 and lo <= -99.683617:\n",
    "             zone ='NW'\n",
    "        if zone == zone_u:\n",
    "            sum_values +=1\n",
    "    except:\n",
    "        pass\n",
    "    \n",
    "    \n",
    "    score = round(sum_values/4,2)\n",
    "    \n",
    "    \n",
    "    heapq.heappush(n_h,(score, title, description, city, url))\n",
    "\n",
    "results = []\n",
    "\n",
    "# Applying heapify max algorithm\n",
    "heapq._heapify_max(n_h)\n",
    "\n",
    "limit = 10\n",
    "d_len = len(list_intersect)\n",
    "\n",
    "if(d_len < 10):\n",
    "    limit = d_len\n",
    "\n",
    "for i in range(limit):\n",
    "    results.append(list(heapq.heappop(n_h)))\n",
    "    heapq._heapify_max(n_h)\n",
    "\n",
    "#print(\"Applying Heap\")  \n",
    "\n",
    "#print(results)\n",
    "results_formatted = []\n",
    "\n",
    "for i in results:\n",
    "    first = round(i.pop(0), 4)\n",
    "    i.append(first) \n",
    "    results_formatted.append(i)\n",
    "    \n",
    "\n",
    "# Displaying the results\n",
    "show_results(results_formatted, [], True)"
   ]
  },
  {
   "cell_type": "markdown",
   "metadata": {},
   "source": [
    "# Bonus Step: Make a nice visualization!"
   ]
  },
  {
   "cell_type": "markdown",
   "metadata": {},
   "source": [
    "An important feature of Airbnb is the search on the map. \n",
    "\n",
    "Our tool will works in the following way:\n",
    "\n",
    "- Takes in input a set of coordinates and a maximum distance from the coordinates.\n",
    "- Generate a map, with a circle of the given radius, where the center is represented by the coordinates given in input.\n",
    "- Shows the houses that are inside the circle of the given radius."
   ]
  },
  {
   "cell_type": "code",
   "execution_count": 17,
   "metadata": {},
   "outputs": [],
   "source": [
    "#We drop rows where latitude and/or longitude column contains missing values (NaN)\n",
    "m = m.dropna(subset=['latitude', 'longitude'])"
   ]
  },
  {
   "cell_type": "code",
   "execution_count": 18,
   "metadata": {},
   "outputs": [
    {
     "name": "stdout",
     "output_type": "stream",
     "text": [
      "Enter a latitude: 30.02\n",
      "Enter a longitude: -95.29\n",
      "Enter distance range (in km): 10\n"
     ]
    }
   ],
   "source": [
    "#We ask as input latitude, longitude and a maximum distance to generate the radius\n",
    "lat = float(input('Enter a latitude: '))\n",
    "lon = float(input('Enter a longitude: '))\n",
    "dis = float(input('Enter distance range (in km): '))"
   ]
  },
  {
   "cell_type": "code",
   "execution_count": 19,
   "metadata": {
    "collapsed": true
   },
   "outputs": [],
   "source": [
    "#!pip install geopy\n",
    "import folium\n",
    "from geopy import distance\n",
    "\n",
    "#We create the map with given coordinates\n",
    "mp = folium.Map(location = [lat, lon], zoom_start = 12)"
   ]
  },
  {
   "cell_type": "code",
   "execution_count": 20,
   "metadata": {
    "collapsed": true
   },
   "outputs": [],
   "source": [
    "#Search represents the set of given coordinates\n",
    "search = (lat, lon)\n",
    "\n",
    "#Now, we create the marker associated with input set of coordinates, that we call origin\n",
    "folium.Marker(location = [lat, lon], popup = 'origin', icon = folium.Icon(color = 'green', icon = 'home')).add_to(mp)\n",
    "\n",
    "#Then, we generate the circle with input set of coordinates as center. \n",
    "folium.Circle(location = [lat, lon], radius = dis * 1000).add_to(mp)\n",
    "\n",
    "#For each house that is in the given distance from the input set of coordinates, we create a marker with price that \n",
    "#can be clicked to access the house web page\n",
    "for row in m.itertuples():\n",
    "    if distance.distance(search, (row.latitude, row.longitude)).km <= dis:\n",
    "        folium.Marker(location = [row.latitude, row.longitude], popup = folium.Popup('<a href=' + row.url + '>' + row.average_rate_per_night + ' </a>')).add_to(mp)\n",
    "        \n",
    "mp.save('map.html')"
   ]
  }
 ],
 "metadata": {
  "kernelspec": {
   "display_name": "Python 3",
   "language": "python",
   "name": "python3"
  },
  "language_info": {
   "codemirror_mode": {
    "name": "ipython",
    "version": 3
   },
   "file_extension": ".py",
   "mimetype": "text/x-python",
   "name": "python",
   "nbconvert_exporter": "python",
   "pygments_lexer": "ipython3",
   "version": "3.6.3"
  }
 },
 "nbformat": 4,
 "nbformat_minor": 2
}
